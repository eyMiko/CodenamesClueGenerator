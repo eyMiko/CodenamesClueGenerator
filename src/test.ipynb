{
 "cells": [
  {
   "cell_type": "code",
   "execution_count": 1,
   "metadata": {},
   "outputs": [],
   "source": [
    "from ipynb.fs.full.nlp import *"
   ]
  },
  {
   "cell_type": "code",
   "execution_count": 2,
   "metadata": {},
   "outputs": [
    {
     "name": "stdout",
     "output_type": "stream",
     "text": [
      "Are 'happy' and 'happier' too similar? ->  True \n",
      "-\n",
      "Are 'trouble' and 'troubling' too similar? ->  True \n",
      "-\n",
      "Are 'troubling' and 'trout' too similar? ->  True \n",
      "-\n",
      "Are 'nineteen' and 'eighteen' too similar? ->  True \n",
      "-\n"
     ]
    }
   ],
   "source": [
    "\"\"\"\n",
    "Testing the are_similar method from nlp.ipynb\n",
    "which should return true if two words are \n",
    "too structurally related to be a valid hint/word pair\n",
    "\n",
    "\"\"\"\n",
    "\n",
    "porter = PorterStemmer()\n",
    "lancaster = LancasterStemmer()\n",
    "\n",
    "def test_similar(w1, w2):\n",
    "    print(\"Are '%s' and '%s' too similar? -> \"%(w1,w2), are_similar(porter,lancaster,w1,w2),\"\\n-\")\n",
    "\n",
    "\n",
    "## TESTS ##\n",
    "\n",
    "test_similar(\"happy\", \"happier\")\n",
    "test_similar(\"trouble\", \"troubling\")\n",
    "test_similar(\"troubling\", \"trout\")\n",
    "test_similar(\"nineteen\", \"eighteen\")\n",
    "    "
   ]
  },
  {
   "cell_type": "code",
   "execution_count": 12,
   "metadata": {},
   "outputs": [
    {
     "name": "stdout",
     "output_type": "stream",
     "text": [
      "Loading Codenames words...\n",
      "[remove_unseen_words] OUTPUT: lochness not found in fasttext -> excluded from words list\n",
      "[remove_unseen_words] OUTPUT: scubadiver not found in fasttext -> excluded from words list\n",
      "\n",
      "Getting board...\n",
      "- GAME BOARD -\n",
      "Team Words:  ['space', 'swing', 'school', 'degree', 'crown', 'field', 'cycle', 'smuggler', 'king']\n",
      "Enemy Words:  ['brush', 'tablet', 'square', 'mexico', 'star', 'ship', 'oil', 'shoe']\n",
      "Neutral Words:  ['ambulance', 'capital', 'thief', 'horseshoe', 'hood', 'arm', 'dice']\n",
      "Assassin Word:  ['pilot']\n",
      "\n",
      "Generating hints...\n",
      "- HINTS -\n",
      "system 3 ['cycle', 'school', 'field']\n",
      "education 3 ['school', 'field', 'degree']\n",
      "area 3 ['field', 'space', 'school']\n",
      "course 3 ['field', 'degree', 'school']\n",
      "dimension 3 ['space', 'degree', 'field']\n",
      "realm 3 ['field', 'king', 'space']\n"
     ]
    }
   ],
   "source": [
    "\"\"\"\n",
    "Testing the clue generator\n",
    "\"\"\"\n",
    "\n",
    "def display_board(board):\n",
    "    print(\"- GAME BOARD -\")\n",
    "    print(\"Team Words: \",board[0])\n",
    "    print(\"Enemy Words: \",board[1])\n",
    "    print(\"Neutral Words: \",board[2])\n",
    "    print(\"Assassin Word: \",board[3])\n",
    "    \n",
    "def display_hints(hints):\n",
    "    print(\"- HINTS -\")\n",
    "    _, size, _ = hints\n",
    "    for i in range(len(hints[0])):\n",
    "        print(hints[0][i], size, hints[2][i])\n",
    "    \n",
    "print(\"Loading Codenames words...\")\n",
    "game_words = load_codename_words()\n",
    "\n",
    "print(\"\\nGetting board...\")\n",
    "board = get_example_board(game_words)\n",
    "display_board(board)\n",
    "\n",
    "print(\"\\nGenerating hints...\")\n",
    "CCG = CodenamesClueGenerator(board)\n",
    "hints = CCG.give_hints()\n",
    "display_hints(hints)"
   ]
  },
  {
   "cell_type": "code",
   "execution_count": null,
   "metadata": {},
   "outputs": [],
   "source": []
  }
 ],
 "metadata": {
  "kernelspec": {
   "display_name": "Python 3",
   "language": "python",
   "name": "python3"
  },
  "language_info": {
   "codemirror_mode": {
    "name": "ipython",
    "version": 3
   },
   "file_extension": ".py",
   "mimetype": "text/x-python",
   "name": "python",
   "nbconvert_exporter": "python",
   "pygments_lexer": "ipython3",
   "version": "3.6.5"
  }
 },
 "nbformat": 4,
 "nbformat_minor": 2
}
