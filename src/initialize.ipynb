{
 "cells": [
  {
   "cell_type": "markdown",
   "metadata": {},
   "source": [
    "# initialize.ipynb: Run this file once to initialize the program directory.\n",
    "#### It will:\n",
    "####   - Install the necessary python modules\n",
    "####   - Load in the FastText model and save to a file for faster load in future --> ../data/fasttext_vectors.kv\n",
    "####   - Create a similarity matrix for hint words --> ../data/similarity_matrix.csv\n"
   ]
  },
  {
   "cell_type": "code",
   "execution_count": null,
   "metadata": {},
   "outputs": [],
   "source": [
    "## Installs\n",
    "\n",
    "!pip install tqdm\n",
    "!pip install nltk\n",
    "!pip install ipynb"
   ]
  },
  {
   "cell_type": "code",
   "execution_count": 1,
   "metadata": {},
   "outputs": [],
   "source": [
    "## Import nlp.ipynb\n",
    "\n",
    "from ipynb.fs.full.nlp import *"
   ]
  },
  {
   "cell_type": "code",
   "execution_count": 2,
   "metadata": {},
   "outputs": [],
   "source": [
    "## Download FastText model and save to file (Runtime: ~6 mins)\n",
    "\n",
    "fasttext = gensim.downloader.load('fasttext-wiki-news-subwords-300')\n",
    "fasttext.save('../data/fasttext_vectors.kv')"
   ]
  },
  {
   "cell_type": "code",
   "execution_count": 4,
   "metadata": {},
   "outputs": [
    {
     "name": "stdout",
     "output_type": "stream",
     "text": [
      "[remove_unseen_words] OUTPUT: pdas not found in fasttext -> excluded from words list\n",
      "[remove_unseen_words] OUTPUT: zus not found in fasttext -> excluded from words list\n",
      "[remove_unseen_words] OUTPUT: anaheim not found in fasttext -> excluded from words list\n",
      "[remove_unseen_words] OUTPUT: mpegs not found in fasttext -> excluded from words list\n",
      "[remove_unseen_words] OUTPUT: greensboro not found in fasttext -> excluded from words list\n",
      "[remove_unseen_words] OUTPUT: usps not found in fasttext -> excluded from words list\n",
      "[remove_unseen_words] OUTPUT: mrna not found in fasttext -> excluded from words list\n",
      "[remove_unseen_words] OUTPUT: cdna not found in fasttext -> excluded from words list\n",
      "[remove_unseen_words] OUTPUT: liechtenstein not found in fasttext -> excluded from words list\n",
      "[remove_unseen_words] OUTPUT: swaziland not found in fasttext -> excluded from words list\n",
      "[remove_unseen_words] OUTPUT: lochness not found in fasttext -> excluded from words list\n",
      "[remove_unseen_words] OUTPUT: scubadiver not found in fasttext -> excluded from words list\n"
     ]
    },
    {
     "data": {
      "application/vnd.jupyter.widget-view+json": {
       "model_id": "673c7b8d012843fb94c5f98c079451c3",
       "version_major": 2,
       "version_minor": 0
      },
      "text/plain": [
       "  0%|          | 0/8792 [00:00<?, ?it/s]"
      ]
     },
     "metadata": {},
     "output_type": "display_data"
    },
    {
     "name": "stdout",
     "output_type": "stream",
     "text": [
      "        0         1         2         3         4         5         6    \\\n",
      "0  0.153206  0.401138  0.412929  0.435460  0.200337  0.286954  0.336101   \n",
      "1  0.250982  0.417320  0.452736  0.349176  0.279125  0.278332  0.456900   \n",
      "2  0.279441  0.306340  0.328569  0.211479  0.232448  0.314945  0.303217   \n",
      "3  0.236877  0.383886  0.367366  0.271110  0.271447  0.372658  0.333384   \n",
      "4  0.218201  0.415096  0.479813  0.386711  0.179930  0.321156  0.319677   \n",
      "\n",
      "        7         8         9      ...          388       389       390  \\\n",
      "0  0.262615  0.333116  0.204481    ...     0.374421  0.454222  0.436431   \n",
      "1  0.340666  0.323183  0.243550    ...     0.430588  0.369529  0.467984   \n",
      "2  0.321691  0.289576  0.238147    ...     0.330261  0.359034  0.568196   \n",
      "3  0.294110  0.250428  0.204447    ...     0.344032  0.363700  0.521332   \n",
      "4  0.330052  0.306445  0.250183    ...     0.428534  0.368750  0.391435   \n",
      "\n",
      "        391       392       393       394       395       396       397  \n",
      "0  0.417956  0.285503  0.313824  0.360846  0.395158  0.288040  0.320861  \n",
      "1  0.436817  0.311715  0.280682  0.385873  0.357004  0.273329  0.547863  \n",
      "2  0.396002  0.319767  0.263546  0.265932  0.337733  0.271595  0.318437  \n",
      "3  0.322617  0.300489  0.253979  0.334921  0.366475  0.296535  0.276901  \n",
      "4  0.442201  0.257683  0.358578  0.384322  0.366068  0.326753  0.272193  \n",
      "\n",
      "[5 rows x 398 columns]\n"
     ]
    }
   ],
   "source": [
    "## Create similarity matrix and save to file (Runtime: ~18 mins)\n",
    "\n",
    "# Load the hint words and the game (codenames) words\n",
    "hint_words = load_hint_words()\n",
    "game_words = load_codename_words()\n",
    "\n",
    "# Store similarity scores of hint/game words in .csv file\n",
    "create_sim_mat(fasttext, hint_words, game_words)\n"
   ]
  },
  {
   "cell_type": "code",
   "execution_count": null,
   "metadata": {},
   "outputs": [],
   "source": []
  }
 ],
 "metadata": {
  "kernelspec": {
   "display_name": "Python 3",
   "language": "python",
   "name": "python3"
  },
  "language_info": {
   "codemirror_mode": {
    "name": "ipython",
    "version": 3
   },
   "file_extension": ".py",
   "mimetype": "text/x-python",
   "name": "python",
   "nbconvert_exporter": "python",
   "pygments_lexer": "ipython3",
   "version": "3.6.5"
  }
 },
 "nbformat": 4,
 "nbformat_minor": 2
}
