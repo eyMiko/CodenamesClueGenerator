{
 "cells": [
  {
   "cell_type": "markdown",
   "metadata": {},
   "source": [
    "# initialize.ipynb: Run this file once to initialize the program directory.\n",
    "#### It will:\n",
    "####   - Install the necessary python modules\n",
    "####   - Load in the FastText model and save to a file for faster load in future --> ../data/fasttext_vectors.kv\n",
    "####   - Create a similarity matrix for hint words --> ../data/similarity_matrix.csv\n"
   ]
  },
  {
   "cell_type": "code",
   "execution_count": 1,
   "metadata": {},
   "outputs": [
    {
     "name": "stdout",
     "output_type": "stream",
     "text": [
      "Requirement already satisfied: tqdm in /Users/Celine/anaconda3/lib/python3.6/site-packages (4.64.0)\n",
      "Requirement already satisfied: importlib-resources in /Users/Celine/anaconda3/lib/python3.6/site-packages (from tqdm) (5.4.0)\n",
      "Requirement already satisfied: zipp>=3.1.0 in /Users/Celine/anaconda3/lib/python3.6/site-packages (from importlib-resources->tqdm) (3.6.0)\n",
      "Requirement already satisfied: nltk in /Users/Celine/anaconda3/lib/python3.6/site-packages (3.3)\n",
      "Requirement already satisfied: six in /Users/Celine/anaconda3/lib/python3.6/site-packages (from nltk) (1.15.0)\n",
      "Requirement already satisfied: ipynb in /Users/Celine/anaconda3/lib/python3.6/site-packages (0.5.1)\n"
     ]
    }
   ],
   "source": [
    "## Installs\n",
    "\n",
    "!pip install tqdm\n",
    "!pip install nltk\n",
    "!pip install ipynb"
   ]
  },
  {
   "cell_type": "code",
   "execution_count": 2,
   "metadata": {},
   "outputs": [],
   "source": [
    "# Libraries \n",
    "\n",
    "import numpy as np\n",
    "from numpy.linalg import norm\n",
    "from gensim.models import KeyedVectors\n",
    "import gensim.downloader\n",
    "from random import shuffle\n",
    "import pandas as pd\n",
    "import nltk\n",
    "from nltk.stem import PorterStemmer\n",
    "from nltk.stem import LancasterStemmer\n",
    "from tqdm.notebook import tqdm"
   ]
  },
  {
   "cell_type": "code",
   "execution_count": 3,
   "metadata": {},
   "outputs": [],
   "source": [
    "## Download FastText model and save to file (Runtime: ~6 mins)\n",
    "\n",
    "import gensim.downloader\n",
    "\n",
    "fasttext = gensim.downloader.load('fasttext-wiki-news-subwords-300')\n",
    "fasttext.save('../data/fasttext_vectors.kv')\n"
   ]
  },
  {
   "cell_type": "code",
   "execution_count": 4,
   "metadata": {},
   "outputs": [],
   "source": [
    "# Loading FastText model\n",
    "\n",
    "fasttext = KeyedVectors.load('../data/fasttext_vectors.kv')"
   ]
  },
  {
   "cell_type": "code",
   "execution_count": 5,
   "metadata": {},
   "outputs": [],
   "source": [
    "# String paths to necessary files\n",
    "\n",
    "CODENAME_WORDS_FILE = '../data/codename_words.txt'\n",
    "HINT_WORDS_FILE = '../data/hint_words.csv'"
   ]
  },
  {
   "cell_type": "code",
   "execution_count": 6,
   "metadata": {},
   "outputs": [],
   "source": [
    "def cosine_similarity(x,y):\n",
    "# Calculates cosine similarity of two word vectors via a normalized dot product \n",
    "    dp = np.dot(x,y) / (norm(x)*norm(y))\n",
    "    return dp\n",
    "\n",
    "def create_sim_mat(fasttext, hint_words, game_words):\n",
    "# Stores the similarities of hint/game word combinations in a .csv file\n",
    "\n",
    "    # Create a pandas df to store similarities of each game word/hint word pair\n",
    "    data = pd.DataFrame(np.zeros((len(hint_words), len(game_words))))\n",
    "\n",
    "    # For each hint word\n",
    "    for i in tqdm(range(len(hint_words))):\n",
    "\n",
    "        # Find fasttext word vector for hint word\n",
    "        hwv = fasttext[hint_words[i]]\n",
    "\n",
    "        # For each game word\n",
    "        for j in range(len(game_words)):\n",
    "\n",
    "            # Find fasttext word vector for hint word\n",
    "            gwv = fasttext[game_words[j]]\n",
    "\n",
    "            # Calculate and store cos similarity of game word and hint word\n",
    "            data.iloc[i, j] = cosine_similarity(gwv, hwv)\n",
    "\n",
    "    print(data.head())\n",
    "    \n",
    "    # Save dataframe to .csv file\n",
    "    data.index = hint_words\n",
    "    data.columns = game_words\n",
    "    data.index = data.index.str.lower()\n",
    "    data.columns = data.columns.str.lower()\n",
    "    data.to_csv('../data/similarity_matrix.csv')\n",
    "    \n",
    "def load_hint_words():\n",
    "# Returns a list of hint words read from csv file\n",
    "# Note: Later change this to the list of words in fasttext\n",
    "    hint_words = pd.read_csv(HINT_WORDS_FILE, index_col=0).hints.tolist()\n",
    "    hint_words = remove_unseen_words(hint_words)\n",
    "    return hint_words\n",
    "\n",
    "\n",
    "def load_codename_words():\n",
    "# Returns a list of words from codenames \n",
    "# Turns words lower case and removes spaces from compound words\n",
    "# Removes a word from the game if it's not in fasttext model\n",
    "    with open(CODENAME_WORDS_FILE, 'r') as f:\n",
    "        uppercase_words = f.readlines()\n",
    "\n",
    "    # Turn words lower case and remove spaces from compound words\n",
    "    game_words = [w.lower().strip().replace(\" \", \"\") for w in uppercase_words]\n",
    "    \n",
    "    # Removes a word from game if it has no corresponding fasttext word vector\n",
    "    game_words = remove_unseen_words(game_words)\n",
    "    \n",
    "    # Return a list of game words\n",
    "    return game_words\n",
    "\n",
    "def remove_unseen_words(inlist):\n",
    "# Removes words from list that are not found in fasttext model\n",
    "# Returns a \"cleaned\" copy of list\n",
    "# Note: original list passed in remains unaltered\n",
    "    outlist = []\n",
    "    for w in inlist:\n",
    "        if w in fasttext.key_to_index:\n",
    "            outlist.append(w)\n",
    "        else:\n",
    "            print(\"[remove_unseen_words] OUTPUT: %s not found in fasttext -> excluded from words list\"%w)\n",
    "            continue\n",
    "    return outlist\n"
   ]
  },
  {
   "cell_type": "code",
   "execution_count": 7,
   "metadata": {},
   "outputs": [
    {
     "name": "stdout",
     "output_type": "stream",
     "text": [
      "[remove_unseen_words] OUTPUT: pdas not found in fasttext -> excluded from words list\n",
      "[remove_unseen_words] OUTPUT: zus not found in fasttext -> excluded from words list\n",
      "[remove_unseen_words] OUTPUT: anaheim not found in fasttext -> excluded from words list\n",
      "[remove_unseen_words] OUTPUT: mpegs not found in fasttext -> excluded from words list\n",
      "[remove_unseen_words] OUTPUT: greensboro not found in fasttext -> excluded from words list\n",
      "[remove_unseen_words] OUTPUT: usps not found in fasttext -> excluded from words list\n",
      "[remove_unseen_words] OUTPUT: mrna not found in fasttext -> excluded from words list\n",
      "[remove_unseen_words] OUTPUT: cdna not found in fasttext -> excluded from words list\n",
      "[remove_unseen_words] OUTPUT: liechtenstein not found in fasttext -> excluded from words list\n",
      "[remove_unseen_words] OUTPUT: swaziland not found in fasttext -> excluded from words list\n",
      "[remove_unseen_words] OUTPUT: lochness not found in fasttext -> excluded from words list\n",
      "[remove_unseen_words] OUTPUT: scubadiver not found in fasttext -> excluded from words list\n"
     ]
    },
    {
     "data": {
      "application/vnd.jupyter.widget-view+json": {
       "model_id": "3ee9883f2c7649bda1911f961ca7b794",
       "version_major": 2,
       "version_minor": 0
      },
      "text/plain": [
       "  0%|          | 0/8792 [00:00<?, ?it/s]"
      ]
     },
     "metadata": {},
     "output_type": "display_data"
    },
    {
     "ename": "KeyboardInterrupt",
     "evalue": "",
     "output_type": "error",
     "traceback": [
      "\u001b[0;31m---------------------------------------------------------------------------\u001b[0m",
      "\u001b[0;31mKeyboardInterrupt\u001b[0m                         Traceback (most recent call last)",
      "\u001b[0;32m<ipython-input-7-dbfdc5c21022>\u001b[0m in \u001b[0;36m<module>\u001b[0;34m()\u001b[0m\n\u001b[1;32m      6\u001b[0m \u001b[0;34m\u001b[0m\u001b[0m\n\u001b[1;32m      7\u001b[0m \u001b[0;31m# Store similarity scores of hint/game words in .csv file\u001b[0m\u001b[0;34m\u001b[0m\u001b[0;34m\u001b[0m\u001b[0m\n\u001b[0;32m----> 8\u001b[0;31m \u001b[0mcreate_sim_mat\u001b[0m\u001b[0;34m(\u001b[0m\u001b[0mfasttext\u001b[0m\u001b[0;34m,\u001b[0m \u001b[0mhint_words\u001b[0m\u001b[0;34m,\u001b[0m \u001b[0mgame_words\u001b[0m\u001b[0;34m)\u001b[0m\u001b[0;34m\u001b[0m\u001b[0m\n\u001b[0m",
      "\u001b[0;32m<ipython-input-6-95edba283ed0>\u001b[0m in \u001b[0;36mcreate_sim_mat\u001b[0;34m(fasttext, hint_words, game_words)\u001b[0m\n\u001b[1;32m     23\u001b[0m \u001b[0;34m\u001b[0m\u001b[0m\n\u001b[1;32m     24\u001b[0m             \u001b[0;31m# Calculate and store cos similarity of game word and hint word\u001b[0m\u001b[0;34m\u001b[0m\u001b[0;34m\u001b[0m\u001b[0m\n\u001b[0;32m---> 25\u001b[0;31m             \u001b[0mdata\u001b[0m\u001b[0;34m.\u001b[0m\u001b[0miloc\u001b[0m\u001b[0;34m[\u001b[0m\u001b[0mi\u001b[0m\u001b[0;34m,\u001b[0m \u001b[0mj\u001b[0m\u001b[0;34m]\u001b[0m \u001b[0;34m=\u001b[0m \u001b[0mcosine_similarity\u001b[0m\u001b[0;34m(\u001b[0m\u001b[0mgwv\u001b[0m\u001b[0;34m,\u001b[0m \u001b[0mhwv\u001b[0m\u001b[0;34m)\u001b[0m\u001b[0;34m\u001b[0m\u001b[0m\n\u001b[0m\u001b[1;32m     26\u001b[0m \u001b[0;34m\u001b[0m\u001b[0m\n\u001b[1;32m     27\u001b[0m     \u001b[0mprint\u001b[0m\u001b[0;34m(\u001b[0m\u001b[0mdata\u001b[0m\u001b[0;34m.\u001b[0m\u001b[0mhead\u001b[0m\u001b[0;34m(\u001b[0m\u001b[0;34m)\u001b[0m\u001b[0;34m)\u001b[0m\u001b[0;34m\u001b[0m\u001b[0m\n",
      "\u001b[0;31mKeyboardInterrupt\u001b[0m: "
     ]
    }
   ],
   "source": [
    "## Create similarity matrix and save to file (Runtime: ~18 mins)\n",
    "\n",
    "# Load the hint words and the game (codenames) words\n",
    "hint_words = load_hint_words()\n",
    "game_words = load_codename_words()\n",
    "\n",
    "# Store similarity scores of hint/game words in .csv file\n",
    "create_sim_mat(fasttext, hint_words, game_words)\n"
   ]
  }
 ],
 "metadata": {
  "kernelspec": {
   "display_name": "Python 3",
   "language": "python",
   "name": "python3"
  },
  "language_info": {
   "codemirror_mode": {
    "name": "ipython",
    "version": 3
   },
   "file_extension": ".py",
   "mimetype": "text/x-python",
   "name": "python",
   "nbconvert_exporter": "python",
   "pygments_lexer": "ipython3",
   "version": "3.6.5"
  }
 },
 "nbformat": 4,
 "nbformat_minor": 2
}
