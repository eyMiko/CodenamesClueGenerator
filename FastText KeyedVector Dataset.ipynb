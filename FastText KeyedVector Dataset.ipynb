{
 "cells": [
  {
   "cell_type": "code",
   "execution_count": 1,
   "id": "a56d0beb",
   "metadata": {},
   "outputs": [],
   "source": [
    "import io\n",
    "import fasttext\n",
    "from tqdm import tqdm\n",
    "import string\n",
    "from gensim.models import KeyedVectors"
   ]
  },
  {
   "cell_type": "code",
   "execution_count": 2,
   "id": "f799a192",
   "metadata": {},
   "outputs": [],
   "source": [
    "vectors = KeyedVectors.load('initialFTVectors.kv')"
   ]
  },
  {
   "cell_type": "code",
   "execution_count": 3,
   "id": "4e9fb3fe",
   "metadata": {},
   "outputs": [
    {
     "name": "stdout",
     "output_type": "stream",
     "text": [
      "to\n"
     ]
    }
   ],
   "source": [
    "print(vectors.index_to_key[5])"
   ]
  },
  {
   "cell_type": "code",
   "execution_count": 4,
   "id": "b5115f4d",
   "metadata": {},
   "outputs": [
    {
     "name": "stdout",
     "output_type": "stream",
     "text": [
      "10611\n"
     ]
    }
   ],
   "source": [
    "print(vectors.key_to_index['bush'])"
   ]
  },
  {
   "cell_type": "code",
   "execution_count": 5,
   "id": "670e9ef7",
   "metadata": {},
   "outputs": [
    {
     "name": "stdout",
     "output_type": "stream",
     "text": [
      "1415\n"
     ]
    }
   ],
   "source": [
    "print(vectors.key_to_index['Bush'])"
   ]
  },
  {
   "cell_type": "code",
   "execution_count": 6,
   "id": "24b1cbc1",
   "metadata": {},
   "outputs": [
    {
     "name": "stdout",
     "output_type": "stream",
     "text": [
      "999994\n"
     ]
    }
   ],
   "source": [
    "print(len(vectors))"
   ]
  },
  {
   "cell_type": "code",
   "execution_count": 7,
   "id": "8ceadcfd",
   "metadata": {},
   "outputs": [],
   "source": [
    "apostrophe = \"'\"\n",
    "alphabet = ['B','b','C','c','D','d','E','e','F','f','G','g','H','h','J','j','K','k','L','l','M','m','N','n','O','o','P','p','Q','q','R','r','S','s','T','t','U','u','V','v','W','w','X','x','Y','y','Z','z']"
   ]
  },
  {
   "cell_type": "code",
   "execution_count": 8,
   "id": "c96b8c63",
   "metadata": {},
   "outputs": [
    {
     "name": "stderr",
     "output_type": "stream",
     "text": [
      "100%|██████████████████████████████████████████████████████████████████████| 999994/999994 [00:02<00:00, 422527.76it/s]\n"
     ]
    }
   ],
   "source": [
    "vectorDict = {}\n",
    "for x in tqdm(range(len(vectors))):\n",
    "    key = vectors.index_to_key[x]\n",
    "    \n",
    "#for key in tqdm(temp_wv2.index_to_key):\n",
    "    #if a word vector has an apostrophe, it keeps the word vector\n",
    "    if key in alphabet or key.isalpha() == False or key.isupper() == True:\n",
    "        continue\n",
    "    elif apostrophe in key or key.isalpha() == True:\n",
    "        #if key.isalpha() == True:\n",
    "        #    for y in range(len(vectors)):\n",
    "        #        if vectors.index_to_key[x] < vectors.index_to_key[y] == True:\n",
    "        #            continue\n",
    "        value = vectors.__getitem__(key)\n",
    "        vectorDict[key] = value\n",
    "    #if the word vector has any punctuation(that is not an apostrophe), is not only letters, or is all uppercase (acronyms usually all uppercase), take it out.\n",
    "    #elif key in string.punctuation or key in alphabet or key.isalpha() == False or key.isupper() == True:\n",
    "    #   temp =  \n",
    "    #   del vectors[key]"
   ]
  },
  {
   "cell_type": "code",
   "execution_count": 9,
   "id": "7b7b0328",
   "metadata": {},
   "outputs": [
    {
     "name": "stdout",
     "output_type": "stream",
     "text": [
      "712014\n"
     ]
    }
   ],
   "source": [
    "print(len(vectorDict))"
   ]
  },
  {
   "cell_type": "code",
   "execution_count": 10,
   "id": "e9d7170b",
   "metadata": {},
   "outputs": [
    {
     "name": "stdout",
     "output_type": "stream",
     "text": [
      "[-1.090e-02  2.668e-01 -9.800e-03  1.130e-01  5.600e-02  5.790e-02\n",
      " -6.580e-02 -9.910e-02  1.392e-01 -1.770e-02 -4.070e-02  2.100e-03\n",
      "  7.650e-02 -3.210e-02  1.000e-04  5.580e-02 -3.500e-02 -2.680e-02\n",
      "  1.319e-01 -8.060e-02 -3.102e-01 -4.670e-02 -7.800e-02  1.680e-02\n",
      "  9.670e-02 -7.990e-02  1.628e-01  1.681e-01  4.580e-02 -1.530e-02\n",
      "  2.440e-01 -1.040e-01 -1.030e-01  2.400e-02  2.552e-01  6.280e-02\n",
      " -5.420e-02  1.711e-01  2.140e-02  1.892e-01 -1.172e-01  2.010e-02\n",
      " -1.950e-01 -1.321e-01  4.200e-02 -4.660e-02 -2.302e-01 -1.693e-01\n",
      " -4.950e-02 -1.367e-01  2.211e-01 -3.130e-02 -7.359e-01 -1.589e-01\n",
      " -2.552e-01 -1.610e-02 -1.109e-01  7.070e-02  8.070e-02 -1.386e-01\n",
      "  5.660e-02 -1.161e-01 -4.800e-02 -1.710e-02 -5.240e-02 -1.630e-01\n",
      " -3.250e-02 -4.170e-02  1.365e-01  7.600e-03 -7.920e-02  2.560e-02\n",
      "  1.502e-01 -7.390e-02 -2.060e-02  8.040e-02 -2.370e-02  1.004e-01\n",
      "  3.740e-02  1.834e-01  1.760e-02  4.920e-02 -6.720e-02 -1.475e-01\n",
      " -1.267e-01 -3.610e-02  2.970e-02  2.050e-02  3.040e-02 -2.940e-02\n",
      " -8.230e-02 -1.100e-02  6.850e-02 -1.438e-01 -5.810e-02  2.790e-02\n",
      " -2.418e-01  2.980e-02  8.800e-03  3.087e-01 -3.600e-03 -2.400e-03\n",
      "  1.020e-01  2.820e-02  7.410e-02 -5.670e-02 -1.382e-01  5.000e-03\n",
      "  1.135e-01  9.710e-02  2.696e-01  8.880e-02  9.390e-02  1.334e-01\n",
      "  1.171e-01  4.880e-02 -4.620e-02 -2.017e-01  1.480e-02 -2.750e-01\n",
      " -7.040e-02  1.351e-01 -6.670e-02 -1.134e-01 -1.502e-01 -6.130e-02\n",
      "  2.641e-01 -1.301e-01 -2.134e-01  4.750e-02 -7.430e-02 -6.380e-02\n",
      "  1.980e-02  4.910e-02  2.292e-01  3.880e-02  4.260e-02 -5.380e-02\n",
      " -2.100e-03 -1.114e-01  1.819e-01 -3.190e-02 -2.167e-01  8.870e-02\n",
      "  6.000e-03 -7.960e-02  1.204e-01  9.180e-02  3.070e-02  1.638e-01\n",
      "  3.380e-02 -1.810e-02  8.420e-02  1.875e-01 -7.800e-03  1.097e-01\n",
      " -3.520e-02  1.118e-01  9.620e-02 -1.790e-02 -2.400e-03 -2.257e-01\n",
      "  8.590e-02  3.130e-02 -1.690e-02  2.014e-01  1.096e-01 -8.900e-02\n",
      "  1.210e-02 -4.300e-02 -1.959e-01 -1.533e-01  1.344e-01  3.500e-02\n",
      " -1.314e-01  5.500e-02  2.541e-01  2.740e-01 -1.092e-01 -7.780e-02\n",
      "  7.100e-03  1.591e-01  1.230e-01 -1.930e-01 -1.579e-01 -4.790e-02\n",
      "  1.180e-02 -2.378e-01 -2.294e-01  1.065e-01 -2.500e-03  5.400e-03\n",
      " -3.130e-02 -1.181e-01 -1.540e-02 -2.546e-01 -1.990e-01  7.120e-02\n",
      " -1.800e-02  1.857e-01 -1.043e-01 -7.610e-02 -2.311e-01 -1.551e-01\n",
      "  5.270e-02 -1.020e-02 -1.347e-01 -1.359e-01  5.820e-02 -6.090e-02\n",
      "  5.370e-02  1.272e-01 -3.160e-02 -1.365e-01 -2.055e-01 -3.470e-02\n",
      " -6.050e-02 -2.780e-02 -9.560e-02  3.610e-02  3.800e-03 -1.712e-01\n",
      " -1.667e-01 -1.059e-01  1.940e-02 -8.870e-02  1.870e-02  1.542e-01\n",
      "  4.020e-02 -2.130e-02  2.937e-01 -2.162e-01  2.559e-01 -5.660e-02\n",
      "  4.820e-02  2.580e-02 -1.115e-01  2.124e-01 -1.207e-01  2.280e-01\n",
      " -1.893e-01 -9.600e-03  1.671e-01  8.600e-02  5.770e-02  3.480e-02\n",
      "  4.540e-02 -3.700e-02  1.422e-01  2.704e-01  1.812e-01  1.193e-01\n",
      "  2.530e-02 -1.645e-01  1.517e-01  3.196e-01 -2.620e-02 -3.280e-02\n",
      " -1.088e-01 -1.403e-01  4.330e-02  4.400e-03 -1.707e-01  9.860e-02\n",
      " -2.809e-01  2.177e-01 -8.560e-02 -7.500e-03 -1.902e-01  1.105e-01\n",
      "  1.032e-01  1.267e-01 -2.325e-01 -2.630e-02 -1.760e-02  2.168e-01\n",
      "  5.800e-02 -1.535e-01  8.390e-02  8.930e-02 -2.000e-03 -1.372e-01\n",
      " -3.070e-02  3.960e-02 -7.180e-02 -1.335e-01  1.221e-01 -2.084e-01\n",
      "  4.760e-02  3.180e-02  9.670e-02 -1.381e-01 -2.310e-02  1.513e-01\n",
      "  4.930e-02  1.316e-01 -8.930e-02 -1.100e-03  9.220e-02 -3.760e-02]\n"
     ]
    }
   ],
   "source": [
    "#print(vectorDict['america'])"
   ]
  },
  {
   "cell_type": "code",
   "execution_count": 11,
   "id": "fd86b186",
   "metadata": {},
   "outputs": [
    {
     "name": "stdout",
     "output_type": "stream",
     "text": [
      "[ 5.290e-02  9.900e-02  1.145e-01  6.810e-02 -1.047e-01  1.021e-01\n",
      " -7.550e-02 -7.910e-02  4.940e-02 -5.900e-03 -1.810e-02  1.740e-02\n",
      "  9.200e-03  8.300e-03  4.500e-03 -5.900e-02  8.950e-02  6.030e-02\n",
      "  2.054e-01  2.290e-02 -8.200e-02 -3.130e-02 -7.050e-02 -1.019e-01\n",
      "  1.282e-01 -3.580e-02  5.310e-02  2.706e-01  1.278e-01  1.614e-01\n",
      "  6.300e-03  3.520e-02  3.980e-02 -4.950e-02  9.380e-02  9.930e-02\n",
      " -7.080e-02  3.060e-02  8.580e-02  2.309e-01 -4.430e-02  1.070e-02\n",
      " -1.428e-01 -7.400e-02 -1.085e-01  3.190e-02  1.206e-01 -5.220e-02\n",
      " -1.639e-01 -9.110e-02  6.840e-02 -1.770e-02 -7.132e-01  3.930e-02\n",
      " -1.555e-01 -4.320e-02  9.270e-02  9.720e-02 -1.110e-02  2.530e-02\n",
      " -1.700e-03 -9.940e-02  1.187e-01 -8.310e-02 -1.254e-01 -1.012e-01\n",
      "  1.065e-01 -5.500e-03  1.060e-01  6.580e-02 -2.660e-02  5.270e-02\n",
      "  1.202e-01 -1.847e-01 -2.450e-02  2.090e-02  1.240e-01 -3.040e-02\n",
      " -8.640e-02  1.941e-01 -1.870e-02  1.036e-01 -1.932e-01 -3.032e-01\n",
      " -4.860e-02 -7.300e-03 -1.090e-02 -8.680e-02  4.640e-02 -6.490e-02\n",
      " -1.335e-01  4.650e-02  2.139e-01 -1.740e-02 -2.240e-02 -1.640e-02\n",
      " -1.300e-01  4.460e-02 -1.330e-02  2.257e-01 -7.880e-02 -1.351e-01\n",
      " -2.560e-02  2.006e-01  5.210e-02 -5.150e-02 -1.706e-01  3.700e-02\n",
      "  9.510e-02  1.300e-02  2.918e-01  1.330e-02 -9.000e-04 -4.220e-02\n",
      "  8.710e-02  1.500e-03  1.207e-01 -6.530e-02  1.957e-01 -4.323e-01\n",
      " -3.950e-02  5.370e-02 -1.340e-01 -1.643e-01 -6.870e-02  1.067e-01\n",
      "  2.110e-02 -1.417e-01 -2.453e-01 -8.030e-02 -1.800e-03  6.020e-02\n",
      " -2.102e-01 -1.163e-01  1.586e-01  4.130e-02  3.050e-02  5.030e-02\n",
      " -1.210e-02 -8.090e-02  6.870e-02 -1.633e-01 -3.270e-02  2.068e-01\n",
      " -5.100e-03  7.600e-02  3.200e-03  4.470e-02  2.680e-02  1.963e-01\n",
      "  1.127e-01 -8.100e-03 -4.650e-02  8.780e-02  9.900e-03  8.020e-02\n",
      "  9.320e-02  2.680e-02 -4.510e-02  2.260e-02 -1.882e-01 -7.200e-03\n",
      " -5.070e-02  5.020e-02 -2.560e-02 -1.310e-02  5.660e-02 -2.130e-02\n",
      "  2.500e-03 -8.600e-02 -1.423e-01 -9.390e-02  3.090e-02  6.510e-02\n",
      " -2.100e-01  5.250e-02  2.034e-01  4.690e-02 -9.080e-02 -1.200e-03\n",
      "  9.100e-03  5.090e-02 -4.200e-03 -9.400e-02  6.900e-03 -3.600e-02\n",
      "  3.860e-02  3.690e-02 -1.874e-01  4.620e-02  1.501e-01  7.860e-02\n",
      " -7.890e-02 -8.860e-02  1.150e-02  1.036e-01 -1.604e-01  9.540e-02\n",
      "  1.692e-01  3.720e-02 -4.190e-02 -5.920e-02  2.500e-02 -7.510e-02\n",
      "  4.920e-02  9.680e-02 -9.800e-03 -7.920e-02 -3.560e-02 -2.000e-04\n",
      " -4.650e-02  1.680e-02  5.050e-02 -1.341e-01 -1.897e-01  2.580e-02\n",
      " -1.163e-01 -1.000e-04 -1.143e-01 -3.470e-02  4.850e-02  9.200e-03\n",
      " -8.400e-02 -7.700e-03 -5.600e-03 -1.221e-01 -5.830e-02  6.980e-02\n",
      " -1.860e-02  1.730e-02  2.529e-01 -1.199e-01  3.663e-01 -1.761e-01\n",
      "  1.700e-02  1.500e-01 -1.178e-01  1.671e-01 -2.224e-01  1.671e-01\n",
      " -1.245e-01 -3.550e-02  9.510e-02  7.820e-02  5.570e-02 -8.400e-03\n",
      " -1.014e-01 -1.124e-01  1.447e-01  4.234e-01  9.580e-02  1.683e-01\n",
      " -4.300e-02 -2.460e-02  9.690e-02 -3.170e-02 -3.320e-02 -1.074e-01\n",
      " -1.351e-01  7.110e-02  5.720e-02  2.390e-02 -4.050e-02  9.200e-02\n",
      " -1.275e-01  8.370e-02 -2.180e-02  6.650e-02 -9.700e-03  2.490e-02\n",
      "  4.600e-02  2.370e-02 -7.960e-02  5.060e-02 -2.300e-02  8.200e-03\n",
      " -1.520e-02 -9.190e-02  4.300e-03 -1.550e-02 -1.148e-01 -4.680e-02\n",
      "  5.500e-03 -3.690e-02 -1.553e-01  7.900e-03  7.210e-02 -7.740e-02\n",
      " -1.990e-02  7.100e-03  8.460e-02 -7.300e-03  2.400e-03 -1.200e-03\n",
      "  9.030e-02  2.066e-01 -4.150e-02 -1.008e-01  1.013e-01 -9.380e-02]\n"
     ]
    }
   ],
   "source": [
    "#print(vectorDict['America'])"
   ]
  },
  {
   "cell_type": "code",
   "execution_count": 12,
   "id": "a4782a84",
   "metadata": {},
   "outputs": [],
   "source": [
    "capital = ['A','B','C','D','E','F','G','H','I','J','K','L','M','N','O','P','Q','R','S','T','U','V','W','X','Y','Z']\n",
    "capital2 = [\"A\",\"B\",\"C\",\"D\",\"E\",\"F\",\"G\",\"H\",\"I\",\"J\",\"K\",\"L\",\"M\",\"N\",\"O\",\"P\",\"Q\",\"R\",\"S\",\"T\",\"U\",\"V\",\"W\",\"X\",\"Y\",\"Z\"]"
   ]
  },
  {
   "cell_type": "code",
   "execution_count": 24,
   "id": "bac24d5d",
   "metadata": {},
   "outputs": [
    {
     "name": "stderr",
     "output_type": "stream",
     "text": [
      "100%|█████████████████████████████████████████████████████████████████████| 712014/712014 [00:00<00:00, 1123373.11it/s]\n"
     ]
    }
   ],
   "source": [
    "#2nd dictionary for containing more trimmed dataset.\n",
    "vectors2 = {}\n",
    "for key in tqdm(vectorDict.keys()):\n",
    "    #if the beginning character is capital, remove from data if a lowercase duplicate exists\n",
    "    if key[0].isupper() == True:\n",
    "        lowKey = key.lower()\n",
    "        if lowKey in vectorDict.keys():\n",
    "            continue\n",
    "    #if the rest of the characters has a capital letter, remove it from dataset ie. mySQL        \n",
    "    elif key[1:].islower() == False:\n",
    "        continue\n",
    "    value = vectorDict[key]\n",
    "    vectors2[key] = value"
   ]
  },
  {
   "cell_type": "code",
   "execution_count": 25,
   "id": "34a31581",
   "metadata": {},
   "outputs": [
    {
     "name": "stdout",
     "output_type": "stream",
     "text": [
      "586489\n"
     ]
    }
   ],
   "source": [
    "print(len(vectors2))"
   ]
  },
  {
   "cell_type": "code",
   "execution_count": null,
   "id": "5818842d",
   "metadata": {},
   "outputs": [],
   "source": [
    "print(vectors.key_to_index['mySQL'])"
   ]
  },
  {
   "cell_type": "code",
   "execution_count": null,
   "id": "a64ede1d",
   "metadata": {},
   "outputs": [],
   "source": [
    "\"\" in vectors.key_to_index"
   ]
  },
  {
   "cell_type": "code",
   "execution_count": 21,
   "id": "6222ae72",
   "metadata": {},
   "outputs": [
    {
     "ename": "KeyError",
     "evalue": "'mySQL'",
     "output_type": "error",
     "traceback": [
      "\u001b[1;31m---------------------------------------------------------------------------\u001b[0m",
      "\u001b[1;31mKeyError\u001b[0m                                  Traceback (most recent call last)",
      "\u001b[1;32m<ipython-input-21-f222ae84943a>\u001b[0m in \u001b[0;36m<module>\u001b[1;34m\u001b[0m\n\u001b[1;32m----> 1\u001b[1;33m \u001b[0mprint\u001b[0m\u001b[1;33m(\u001b[0m\u001b[0mvectors2\u001b[0m\u001b[1;33m[\u001b[0m\u001b[1;34m'mySQL'\u001b[0m\u001b[1;33m]\u001b[0m\u001b[1;33m)\u001b[0m\u001b[1;33m\u001b[0m\u001b[1;33m\u001b[0m\u001b[0m\n\u001b[0m",
      "\u001b[1;31mKeyError\u001b[0m: 'mySQL'"
     ]
    }
   ],
   "source": [
    "print(vectors2['mySQL'])"
   ]
  },
  {
   "cell_type": "code",
   "execution_count": null,
   "id": "43c7f9e8",
   "metadata": {},
   "outputs": [],
   "source": []
  },
  {
   "cell_type": "code",
   "execution_count": null,
   "id": "8f781ad8",
   "metadata": {},
   "outputs": [],
   "source": []
  }
 ],
 "metadata": {
  "kernelspec": {
   "display_name": "Python 3",
   "language": "python",
   "name": "python3"
  },
  "language_info": {
   "codemirror_mode": {
    "name": "ipython",
    "version": 3
   },
   "file_extension": ".py",
   "mimetype": "text/x-python",
   "name": "python",
   "nbconvert_exporter": "python",
   "pygments_lexer": "ipython3",
   "version": "3.8.8"
  }
 },
 "nbformat": 4,
 "nbformat_minor": 5
}
