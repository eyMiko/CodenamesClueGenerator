{
 "cells": [
  {
   "cell_type": "code",
   "execution_count": 1,
   "id": "a56d0beb",
   "metadata": {},
   "outputs": [],
   "source": [
    "import io\n",
    "import fasttext\n",
    "from tqdm import tqdm\n",
    "import string\n",
    "from gensim.models import KeyedVectors"
   ]
  },
  {
   "cell_type": "code",
   "execution_count": 2,
   "id": "f799a192",
   "metadata": {},
   "outputs": [],
   "source": [
    "vectors = KeyedVectors.load('initialFTVectors.kv')"
   ]
  },
  {
   "cell_type": "code",
   "execution_count": 3,
   "id": "4e9fb3fe",
   "metadata": {},
   "outputs": [
    {
     "name": "stdout",
     "output_type": "stream",
     "text": [
      "to\n"
     ]
    }
   ],
   "source": [
    "print(vectors.index_to_key[5])"
   ]
  },
  {
   "cell_type": "code",
   "execution_count": 4,
   "id": "b5115f4d",
   "metadata": {},
   "outputs": [
    {
     "name": "stdout",
     "output_type": "stream",
     "text": [
      "10611\n"
     ]
    }
   ],
   "source": [
    "print(vectors.key_to_index['bush'])"
   ]
  },
  {
   "cell_type": "code",
   "execution_count": 5,
   "id": "670e9ef7",
   "metadata": {},
   "outputs": [
    {
     "name": "stdout",
     "output_type": "stream",
     "text": [
      "1415\n"
     ]
    }
   ],
   "source": [
    "print(vectors.key_to_index['Bush'])"
   ]
  },
  {
   "cell_type": "code",
   "execution_count": 6,
   "id": "24b1cbc1",
   "metadata": {},
   "outputs": [
    {
     "name": "stdout",
     "output_type": "stream",
     "text": [
      "999994\n"
     ]
    }
   ],
   "source": [
    "print(len(vectors))"
   ]
  },
  {
   "cell_type": "code",
   "execution_count": 7,
   "id": "8ceadcfd",
   "metadata": {},
   "outputs": [],
   "source": [
    "apostrophe = \"'\"\n",
    "alphabet = ['B','b','C','c','D','d','E','e','F','f','G','g','H','h','J','j','K','k','L','l','M','m','N','n','O','o','P','p','Q','q','R','r','S','s','T','t','U','u','V','v','W','w','X','x','Y','y','Z','z']"
   ]
  },
  {
   "cell_type": "code",
   "execution_count": 8,
   "id": "c96b8c63",
   "metadata": {},
   "outputs": [
    {
     "name": "stderr",
     "output_type": "stream",
     "text": [
      "100%|██████████████████████████████████████████████████████████████████████| 999994/999994 [00:02<00:00, 447887.75it/s]\n"
     ]
    }
   ],
   "source": [
    "vectorDict = {}\n",
    "for x in tqdm(range(len(vectors))):\n",
    "    key = vectors.index_to_key[x]\n",
    "    #if len(key) >= 4:\n",
    "#for key in tqdm(temp_wv2.index_to_key):\n",
    "    #if a word vector has an apostrophe, it keeps the word vector\n",
    "    if key in alphabet or key.isalpha() == False or key.isupper() == True:\n",
    "        continue\n",
    "    #if the key has an apostrophe or if it has only letters.\n",
    "    elif apostrophe in key or key.isalpha() == True:\n",
    "        value = vectors.__getitem__(key)\n",
    "        vectorDict[key] = value\n",
    "   # else:\n",
    "     #   continue"
   ]
  },
  {
   "cell_type": "code",
   "execution_count": 9,
   "id": "7b7b0328",
   "metadata": {},
   "outputs": [
    {
     "name": "stdout",
     "output_type": "stream",
     "text": [
      "712014\n"
     ]
    }
   ],
   "source": [
    "print(len(vectorDict))"
   ]
  },
  {
   "cell_type": "code",
   "execution_count": 10,
   "id": "e9d7170b",
   "metadata": {},
   "outputs": [],
   "source": [
    "#print(vectorDict['america'])"
   ]
  },
  {
   "cell_type": "code",
   "execution_count": 11,
   "id": "fd86b186",
   "metadata": {},
   "outputs": [],
   "source": [
    "#print(vectorDict['America'])"
   ]
  },
  {
   "cell_type": "code",
   "execution_count": 12,
   "id": "a4782a84",
   "metadata": {},
   "outputs": [],
   "source": [
    "capital = ['A','B','C','D','E','F','G','H','I','J','K','L','M','N','O','P','Q','R','S','T','U','V','W','X','Y','Z']\n",
    "capital2 = [\"A\",\"B\",\"C\",\"D\",\"E\",\"F\",\"G\",\"H\",\"I\",\"J\",\"K\",\"L\",\"M\",\"N\",\"O\",\"P\",\"Q\",\"R\",\"S\",\"T\",\"U\",\"V\",\"W\",\"X\",\"Y\",\"Z\"]"
   ]
  },
  {
   "cell_type": "code",
   "execution_count": 13,
   "id": "bac24d5d",
   "metadata": {},
   "outputs": [
    {
     "name": "stderr",
     "output_type": "stream",
     "text": [
      "100%|██████████████████████████████████████████████████████████████████████| 712014/712014 [00:00<00:00, 945248.86it/s]\n"
     ]
    }
   ],
   "source": [
    "#2nd dictionary for containing more trimmed dataset.\n",
    "vectors2 = {}\n",
    "for key in tqdm(vectorDict.keys()):\n",
    "    #if the beginning character is capital, remove from data if a lowercase duplicate exists\n",
    "    if key[0].isupper() == True:\n",
    "        lowKey = key.lower()\n",
    "        if lowKey in vectorDict.keys():\n",
    "            continue\n",
    "    #if the rest of the characters has a capital letter, remove it from dataset ie. mySQL        \n",
    "    elif key[1:].islower() == False:\n",
    "        continue\n",
    "    value = vectorDict[key]\n",
    "    vectors2[key] = value"
   ]
  },
  {
   "cell_type": "code",
   "execution_count": 14,
   "id": "34a31581",
   "metadata": {},
   "outputs": [
    {
     "name": "stdout",
     "output_type": "stream",
     "text": [
      "586489\n"
     ]
    }
   ],
   "source": [
    "print(len(vectors2))"
   ]
  },
  {
   "cell_type": "code",
   "execution_count": 15,
   "id": "5818842d",
   "metadata": {},
   "outputs": [
    {
     "name": "stdout",
     "output_type": "stream",
     "text": [
      "258494\n"
     ]
    }
   ],
   "source": [
    "print(vectors.key_to_index['mySQL'])"
   ]
  },
  {
   "cell_type": "code",
   "execution_count": 16,
   "id": "a64ede1d",
   "metadata": {},
   "outputs": [
    {
     "data": {
      "text/plain": [
       "False"
      ]
     },
     "execution_count": 16,
     "metadata": {},
     "output_type": "execute_result"
    }
   ],
   "source": [
    "\"\" in vectors.key_to_index"
   ]
  },
  {
   "cell_type": "code",
   "execution_count": 17,
   "id": "fd3e1732",
   "metadata": {},
   "outputs": [],
   "source": [
    "vectors3 = {}\n",
    "counter = 0\n",
    "for key in vectors2.keys():\n",
    "    value = vectors2[key]\n",
    "    vectors3[key] = value\n",
    "    counter = counter + 1\n",
    "    if counter == 8000:\n",
    "        break\n",
    "    "
   ]
  },
  {
   "cell_type": "code",
   "execution_count": 18,
   "id": "6222ae72",
   "metadata": {},
   "outputs": [
    {
     "name": "stdout",
     "output_type": "stream",
     "text": [
      "['the', 'and', 'of', 'to', 'in', 'that', 'is', 'for', 'on', 'with', 'as', 'it', 'or', 'was', 'by', 'from', 'at', 'this', 'you', 'are', 'not', 'have', 'be', 'which', 'all', 'his', 'has', 'one', 'their', 'about', 'but', 'an', 'said', 'more', 'page', 'he', 'your', 'will', 'its', 'so', 'were', 'had', 'also', 'only', 'if', 'time', 'some', 'people', 'like', 'who', 'them', 'other', 'they', 'when', 'article', 'what', 'just', 'any', 'after', 'there', 'would', 'can', 'her', 'talk', 'use', 'then', 'into', 'up', 'we', 'over', 'my', 'out', 'here', 'now', 'because', 'do', 'work', 'than', 'no', 'me', 'two', 'our', 'been', 'new', 'where', 'first', 'such', 'made', 'both', 'before', 'way', 'through', 'information', 'him', 'being', 'many', 'most', 'those', 'while', 'name', 'should', 'how', 'even', 'these', 'see', 'make', 'may', 'under', 'year', 'state', 'since', 'years', 'edit', 'right', 'did', 'used', 'government', 'case', 'articles', 'get', 'between', 'she', 'think', 'during', 'another', 'could', 'using', 'without', 'good', 'place', 'support', 'back', 'again', 'against', 'system', 'called', 'much', 'still', 'change', 'say', 'point', 'us', 'group', 'day', 'three', 'know', 'help', 'last', 'each', 'around', 'edits', 'says', 'life', 'link', 'too', 'left', 'very', 'students', 'team', 'sources', 'off', 'well', 'down', 'section', 'take', 'does', 'really', 'discussion', 'either', 'show', 'public', 'including', 'set', 'game', 'policy', 'later', 'need', 'program', 'others', 'source', 'research', 'area', 'children', 'why', 'family', 'making', 'deletion', 'something', 'content', 'school', 'added', 'found', 'until', 'within', 'following', 'better', 'process', 'history', 'given', 'question', 'women', 'country', 'company', 'data', 'part', 'include', 'site', 'pages', 'home', 'business', 'having', 'put', 'issue', 'different', 'world', 'things', 'list', 'power', 'above', 'best', 'future', 'read', 'report', 'project', 'find', 'problem', 'book', 'though', 'law', 'today', 'four', 'links', 'community', 'several', 'film', 'free', 'money', 'line', 'service', 'actually', 'second', 'go', 'deleted', 'editing', 'often', 'every', 'course', 'season', 'possible', 'war', 'title', 'local', 'once', 'study', 'whether', 'yet', 'already', 'issues', 'got', 'man', 'services', 'look', 'questions', 'removed', 'men', 'form', 'water', 'view', 'review', 'person', 'important', 'changes', 'further', 'own', 'present', 'welcome', 'might', 'development', 'done', 'must', 'someone', 'told', 'early', 'material', 'position', 'means', 'created', 'please', 'thing', 'text', 'high', 'itself', 'long', 'number', 'started', 'won', 'great', 'start', 'experience', 'party', 'current', 'building', 'play', 'always', 'anything', 'want', 'fact', 'series', 'old', 'included', 'provide', 'among', 'story', 'police', 'media', 'days', 'never', 'probably', 'add', 'next', 'death', 'took', 'market', 'city', 'field', 'music', 'same', 'working', 'language', 'problems', 'needs', 'reverted', 'less', 'control', 'run', 'image', 'record', 'believe', 'former', 'comment', 'general', 'don', 'end', 'education', 'recent', 'little', 'political', 'known', 'open', 'move', 'evidence', 'thought', 'test', 'message', 'rather', 'members', 'simply', 'week', 'real', 'small', 'user', 'available', 'reason', 'staff', 'account', 'clear', 'saying', 'plan', 'words', 'works', 'changed', 'doing', 'lead', 'million', 'house', 'give', 'term', 'full', 'keep', 'website', 'top', 'enough', 'themselves', 'action', 'come', 'provided', 'five', 'near', 'job', 'feel', 'points', 'ever', 'leave', 'results', 'technology', 'date', 'subject', 'became', 'times', 'vote', 'countries', 'going', 'seen', 'outside', 'taking', 'level', 'word', 'national', 'event', 'health', 'call', 'along', 'class', 'large', 'programs', 'major', 'court', 'together', 'vandalism', 'period', 'getting', 'example', 'claim', 'himself', 'areas', 'design', 'writing', 'interest', 'body', 'reported', 'population', 'states', 'companies', 'wrong', 'perhaps', 'order', 'came', 'industry', 'land', 'office', 'true', 'face', 'address', 'sure', 'everyone', 'began', 'president', 'training', 'side', 'lost', 'groups', 'care', 'space', 'model', 'per', 'region', 'request', 'military', 'nothing', 'food', 'events', 'individual', 'ask', 'decision', 'policies', 'books', 'received', 'album', 'makes', 'matter', 'based', 'contributions', 'de', 'mean', 'news', 'written', 'images', 'systems', 'various', 'few', 'held', 'below', 'tag', 'played', 'common', 'performance', 'regarding', 'production', 'shows', 'meeting', 'away', 'comments', 'love', 'stop', 'practice', 'reference', 'rules', 'head', 'editors', 'users', 'anyone', 'let', 'statement', 'schools', 'appropriate', 'instead', 'campaign', 'almost', 'specific', 'players', 'hit', 'names', 'past', 'night', 'least', 'age', 'note', 'social', 'management', 'considered', 'standard', 'months', 'idea', 'deal', 'attack', 'student', 'check', 'post', 'behind', 'adding', 'science', 'alt', 'references', 'security', 'games', 'situation', 'third', 'race', 'cases', 'guidelines', 'force', 'human', 'light', 'version', 'organization', 'named', 'official', 'international', 'release', 'role', 'block', 'published', 'character', 'correct', 'rule', 'song', 'six', 'visit', 'value', 'video', 'usually', 'big', 'taken', 'hope', 'claims', 'sometimes', 'needed', 'activities', 'everything', 'club', 'remove', 'town', 'certain', 'similar', 'uses', 'close', 'player', 'rights', 'single', 'paper', 'potential', 'economy', 'appear', 'society', 'proposed', 'resources', 'search', 'cause', 'win', 'election', 'hand', 'editor', 'seems', 'ago', 'consensus', 'am', 'entry', 'result', 'far', 'style', 'wrote', 'personal', 'effect', 'live', 'online', 'includes', 'become', 'growth', 'share', 'complete', 'young', 'earlier', 'across', 'products', 'released', 'playing', 'car', 'notable', 'offer', 'child', 'bad', 'network', 'notice', 'energy', 'knowledge', 'sandbox', 'asked', 'sites', 'pay', 'understand', 'reports', 'product', 'poor', 'return', 'short', 'running', 'constructive', 'reading', 'half', 'currently', 'required', 'culture', 'software', 'nor', 'projects', 'match', 'cost', 'upon', 'benefits', 'success', 'established', 'parents', 'private', 'property', 'quality', 'key', 'whose', 'sense', 'theory', 'numbers', 'clearly', 'continue', 'treatment', 'access', 'living', 'late', 'total', 'file', 'band', 'month', 'species', 'consider', 'original', 'answer', 'black', 'conditions', 'air', 'involved', 'century', 'leading', 'fire', 'art', 'opinion', 'final', 'yourself', 'gave', 'environment', 'saw', 'debate', 'costs', 'developed', 'economic', 'try', 'therefore', 'category', 'white', 'friends', 'type', 'cut', 'station', 'church', 'template', 'myself', 'risk', 'mind', 'via', 'hours', 'generally', 'particular', 'alone', 'likely', 'board', 'structure', 'significant', 'tax', 'approach', 'hard', 'movement', 'provides', 'legal', 'went', 'inside', 'sentence', 'workers', 'related', 'analysis', 'simple', 'terms', 'ones', 'especially', 'remains', 'topic', 'directly', 'rate', 'turn', 'career', 'sign', 'necessary', 'quite', 'meaning', 'application', 'recently', 'families', 'status', 'strong', 'percent', 'individuals', 'capital', 'studies', 'described', 'reliable', 'due', 'killed', 'encyclopedia', 'blocked', 'room', 'low', 'built', 'cover', 'giving', 'worked', 'brought', 'https', 'contact', 'speedy', 'special', 'features', 'size', 'warning', 'woman', 'appears', 'create', 'lives', 'standards', 'author', 'relevant', 'function', 'particularly', 'operations', 'produced', 'higher', 'plans', 'despite', 'goal', 'modern', 'base', 'reasons', 'maybe', 'fall', 'competition', 'stage', 'coming', 'dead', 'track', 'popular', 'beyond', 'oil', 'increase', 'mentioned', 'additional', 'details', 'college', 'response', 'stuff', 'died', 'table', 'led', 'university', 'activity', 'sound', 'officials', 'existing', 'mother', 'focus', 'trade', 'financial', 'leaders', 'moment', 'computer', 'leader', 'soon', 'sales', 'moved', 'patients', 'hospital', 'certainly', 'useful', 'allowed', 'father', 'code', 'http', 'act', 'jobs', 'director', 'son', 'facts', 'road', 'continued', 'argument', 'politics', 'employees', 'takes', 'nature', 'previous', 'forces', 'write', 'allow', 'providing', 'safety', 'center', 'born', 'leaving', 'price', 'records', 'places', 'location', 'else', 'increased', 'global', 'district', 'cannot', 'mention', 'mostly', 'towards', 'followed', 'independent', 'learning', 'disease', 'doesn', 'choice', 'movie', 'expected', 'unless', 'concerns', 'trial', 'shot', 'testing', 'announced', 'challenge', 'religion', 'looking', 'ideas', 'meet', 'administration', 'lower', 'average', 'primary', 'sent', 'offered', 'picture', 'traditional', 'football', 'summer', 'teaching', 'external', 'operation', 'whole', 'federal', 'copyright', 'teams', 'violence', 'produce', 'reached', 'professional', 'figure', 'closed', 'longer', 'fine', 'attention', 'discuss', 'ground', 'lines', 'characters', 'weeks', 'comes', 'bill', 'ways', 'laws', 'press', 'seven', 'paid', 'successful', 'sold', 'learn', 'applications', 'diff', 'complex', 'hold', 'context', 'natural', 'bank', 'agree', 'member', 'thinking', 'unit', 'materials', 'listed', 'wanted', 'gets', 'main', 'efforts', 'indeed', 'loss', 'gives', 'scored', 'proposal', 'basis', 'faculty', 'follow', 'department', 'quickly', 'effort', 'although', 'web', 'conflict', 'delete', 'thus', 'immediately', 'actions', 'organizations', 'however', 'teachers', 'notability', 'limited', 'solution', 'except', 'normal', 'construction', 'authority', 'agency', 'moving', 'billion', 'raised', 'creating', 'target', 'requirements', 'equipment', 'contract', 'attacks', 'planning', 'customers', 'benefit', 'concern', 'possibly', 'heard', 'agreement', 'automatically', 'parties', 'multiple', 'document', 'addition', 'developing', 'conference', 'influence', 'require', 'otherwise', 'fans', 'critical', 'completely', 'bring']\n"
     ]
    }
   ],
   "source": [
    "vector2keys = vectors2.keys()\n",
    "first1000 = list(vector2keys)[:1000]\n",
    "print(first1000)"
   ]
  },
  {
   "cell_type": "code",
   "execution_count": 19,
   "id": "43c7f9e8",
   "metadata": {},
   "outputs": [
    {
     "name": "stdout",
     "output_type": "stream",
     "text": [
      "[ 5.390e-02  2.590e-02 -4.870e-02 -6.760e-02 -1.502e-01 -3.530e-02\n",
      " -5.980e-02 -1.772e-01 -1.120e-01 -2.450e-02  6.530e-02  2.060e-02\n",
      " -2.410e-01 -9.890e-02  5.810e-02  3.490e-02 -4.770e-02 -8.500e-03\n",
      "  1.058e-01 -1.716e-01 -4.436e-01 -9.630e-02  8.100e-03  1.361e-01\n",
      "  5.800e-02 -1.439e-01 -1.109e-01  4.740e-02  7.590e-02 -1.771e-01\n",
      " -6.260e-02  3.000e-02  7.200e-02  1.762e-01 -2.173e-01  3.984e-01\n",
      "  1.255e-01  8.640e-02 -3.619e-01 -2.148e-01  2.571e-01  4.870e-02\n",
      " -1.234e-01  1.909e-01 -2.640e-02 -1.323e-01 -5.380e-02  9.260e-02\n",
      " -2.993e-01 -7.100e-03 -5.600e-02 -2.090e-02 -7.427e-01  2.001e-01\n",
      " -1.292e-01 -6.550e-02 -1.937e-01  2.429e-01 -4.260e-02  7.970e-02\n",
      "  7.390e-02 -4.510e-02 -1.826e-01 -1.182e-01  9.160e-02 -2.208e-01\n",
      " -4.690e-02  9.530e-02 -1.764e-01  1.350e-02 -1.396e-01  8.810e-02\n",
      "  2.810e-02 -6.320e-02  1.158e-01 -1.177e-01 -6.330e-02  5.900e-03\n",
      " -2.005e-01  6.390e-02  9.350e-02  1.580e-01 -1.530e-02 -2.150e-01\n",
      "  4.750e-02  1.486e-01  1.129e-01 -4.900e-02  2.076e-01  1.743e-01\n",
      " -1.170e-02  1.767e-01 -1.534e-01 -8.770e-02 -3.580e-02 -9.260e-02\n",
      "  2.365e-01 -1.045e-01  1.381e-01  4.930e-02 -1.296e-01 -7.110e-02\n",
      " -4.890e-02 -1.732e-01  7.440e-02 -2.969e-01 -1.330e-01  9.420e-02\n",
      " -2.640e-02  3.830e-02  2.473e-01  1.480e-01  1.819e-01 -1.137e-01\n",
      "  1.998e-01 -2.140e-02  1.854e-01  3.390e-02  4.710e-02 -3.959e-01\n",
      "  3.896e-01 -5.690e-02  1.199e-01 -6.700e-02 -3.890e-02  1.881e-01\n",
      "  8.230e-02 -1.335e-01 -1.051e-01 -9.650e-02  1.993e-01  4.460e-02\n",
      " -9.250e-02  3.340e-02  1.513e-01  1.890e-01  1.025e-01 -1.900e-02\n",
      " -7.550e-02 -7.180e-02  2.158e-01  2.474e-01 -1.690e-02  1.967e-01\n",
      " -8.100e-02  7.830e-02  1.361e-01 -5.540e-02 -9.370e-02  7.960e-02\n",
      " -1.553e-01 -1.420e-02 -7.490e-02 -3.430e-02 -2.450e-02 -9.840e-02\n",
      "  7.860e-02  5.800e-03  6.150e-02 -1.356e-01 -5.460e-02  8.010e-02\n",
      " -3.480e-02 -2.458e-01  1.437e-01 -1.143e-01  7.440e-02 -1.870e-01\n",
      " -2.186e-01  5.500e-03 -1.119e-01 -2.466e-01 -1.293e-01  6.310e-02\n",
      "  1.510e-01 -6.930e-02  3.204e-01 -1.525e-01  1.926e-01  9.700e-02\n",
      "  1.463e-01 -1.079e-01  5.850e-02  1.711e-01  3.290e-02 -4.950e-02\n",
      "  2.520e-02  1.914e-01 -3.279e-01  3.407e-01 -1.970e-02  6.400e-03\n",
      "  2.270e-01 -5.120e-02 -6.660e-02  6.940e-02  1.670e-02 -1.309e-01\n",
      "  4.280e-02  1.836e-01 -2.220e-01 -5.560e-02 -2.197e-01 -1.760e-02\n",
      "  5.190e-02  1.025e-01  8.320e-02 -1.919e-01 -1.596e-01  9.590e-02\n",
      " -2.390e-02  1.463e-01  2.077e-01  6.000e-04 -2.089e-01 -1.640e-02\n",
      " -2.450e-02  8.230e-02  4.570e-02 -3.270e-02 -1.731e-01 -1.849e-01\n",
      " -2.122e-01 -9.460e-02 -7.090e-02 -1.021e-01  1.182e-01  5.600e-02\n",
      " -3.036e-01  3.390e-02  4.370e-02 -1.514e-01  3.145e-01 -1.855e-01\n",
      " -5.520e-02 -1.144e-01  7.690e-02  4.240e-02 -2.577e-01 -4.780e-02\n",
      "  1.500e-03  1.491e-01 -2.100e-03  6.200e-03 -1.852e-01 -4.490e-02\n",
      "  8.960e-02  4.870e-02 -7.150e-02  3.621e-01  1.322e-01 -1.606e-01\n",
      "  2.658e-01 -5.200e-02 -5.500e-02  4.730e-02  1.319e-01 -1.258e-01\n",
      " -1.085e-01  7.660e-02  3.260e-02  2.559e-01  1.117e-01  1.025e-01\n",
      " -5.376e-01 -4.800e-02 -2.280e-02  2.087e-01 -2.360e-01 -3.930e-02\n",
      "  3.100e-02 -1.590e-02  1.700e-02  2.450e-02 -7.710e-02 -3.440e-02\n",
      "  2.154e-01 -3.850e-02 -1.692e-01  2.334e-01  1.359e-01  2.960e-02\n",
      "  1.950e-02 -5.720e-02 -8.840e-02 -1.290e-02  3.080e-02 -1.770e-02\n",
      " -3.230e-02 -1.029e-01  1.412e-01 -1.912e-01  1.165e-01  6.420e-02\n",
      " -8.300e-03 -1.664e-01 -1.920e-02 -1.150e-02  4.000e-03  9.200e-03]\n"
     ]
    }
   ],
   "source": [
    "print(vectors2['volcano'])"
   ]
  },
  {
   "cell_type": "code",
   "execution_count": 20,
   "id": "8f781ad8",
   "metadata": {},
   "outputs": [
    {
     "name": "stdout",
     "output_type": "stream",
     "text": [
      "8000\n"
     ]
    }
   ],
   "source": [
    "print(len(vectors3))"
   ]
  },
  {
   "cell_type": "code",
   "execution_count": 22,
   "id": "1d931711",
   "metadata": {},
   "outputs": [],
   "source": [
    "# load csv module\n",
    "import csv\n",
    "\n",
    "# open file for writing, \"w\" is writing\n",
    "w = csv.writer(open(\"FastText_trimmed_dataset.csv\", \"w\"))\n",
    "\n",
    "# loop over dictionary keys and values\n",
    "for key, val in vectors3.items():\n",
    "\n",
    "    # write every key and value to file\n",
    "    w.writerow([key, val])"
   ]
  },
  {
   "cell_type": "code",
   "execution_count": null,
   "id": "cfc483c2",
   "metadata": {},
   "outputs": [],
   "source": []
  }
 ],
 "metadata": {
  "kernelspec": {
   "display_name": "Python 3",
   "language": "python",
   "name": "python3"
  },
  "language_info": {
   "codemirror_mode": {
    "name": "ipython",
    "version": 3
   },
   "file_extension": ".py",
   "mimetype": "text/x-python",
   "name": "python",
   "nbconvert_exporter": "python",
   "pygments_lexer": "ipython3",
   "version": "3.8.8"
  }
 },
 "nbformat": 4,
 "nbformat_minor": 5
}
