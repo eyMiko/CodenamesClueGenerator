{
 "cells": [
  {
   "cell_type": "code",
   "execution_count": 1,
   "id": "a56d0beb",
   "metadata": {},
   "outputs": [],
   "source": [
    "import io\n",
    "import fasttext\n",
    "from tqdm import tqdm\n",
    "import string\n",
    "from gensim.models import KeyedVectors"
   ]
  },
  {
   "cell_type": "code",
   "execution_count": 2,
   "id": "f799a192",
   "metadata": {},
   "outputs": [],
   "source": [
    "vectors = KeyedVectors.load('initialFTVectors.kv')"
   ]
  },
  {
   "cell_type": "code",
   "execution_count": 3,
   "id": "4e9fb3fe",
   "metadata": {},
   "outputs": [
    {
     "name": "stdout",
     "output_type": "stream",
     "text": [
      "to\n"
     ]
    }
   ],
   "source": [
    "print(vectors.index_to_key[5])"
   ]
  },
  {
   "cell_type": "code",
   "execution_count": 4,
   "id": "b5115f4d",
   "metadata": {},
   "outputs": [
    {
     "name": "stdout",
     "output_type": "stream",
     "text": [
      "10611\n"
     ]
    }
   ],
   "source": [
    "print(vectors.key_to_index['bush'])"
   ]
  },
  {
   "cell_type": "code",
   "execution_count": 5,
   "id": "670e9ef7",
   "metadata": {},
   "outputs": [
    {
     "name": "stdout",
     "output_type": "stream",
     "text": [
      "1415\n"
     ]
    }
   ],
   "source": [
    "print(vectors.key_to_index['Bush'])"
   ]
  },
  {
   "cell_type": "code",
   "execution_count": 6,
   "id": "24b1cbc1",
   "metadata": {},
   "outputs": [
    {
     "name": "stdout",
     "output_type": "stream",
     "text": [
      "999994\n"
     ]
    }
   ],
   "source": [
    "print(len(vectors))"
   ]
  },
  {
   "cell_type": "code",
   "execution_count": 7,
   "id": "8ceadcfd",
   "metadata": {},
   "outputs": [],
   "source": [
    "apostrophe = \"'\"\n",
    "alphabet = ['B','b','C','c','D','d','E','e','F','f','G','g','H','h','J','j','K','k','L','l','M','m','N','n','O','o','P','p','Q','q','R','r','S','s','T','t','U','u','V','v','W','w','X','x','Y','y','Z','z']"
   ]
  },
  {
   "cell_type": "code",
   "execution_count": 8,
   "id": "c96b8c63",
   "metadata": {},
   "outputs": [
    {
     "name": "stderr",
     "output_type": "stream",
     "text": [
      "100%|██████████████████████████████████████████████████████████████████████| 999994/999994 [00:02<00:00, 433840.72it/s]\n"
     ]
    }
   ],
   "source": [
    "vectorDict = {}\n",
    "for x in tqdm(range(len(vectors))):\n",
    "    key = vectors.index_to_key[x]\n",
    "    if len(key) >= 4:\n",
    "#for key in tqdm(temp_wv2.index_to_key):\n",
    "    #if a word vector has an apostrophe, it keeps the word vector\n",
    "        if key in alphabet or key.isalpha() == False or key.isupper() == True:\n",
    "            continue\n",
    "    #if the key has an apostrophe or if it has only letters.\n",
    "        elif apostrophe in key or key.isalpha() == True:\n",
    "            value = vectors.__getitem__(key)\n",
    "            vectorDict[key] = value\n",
    "    else:\n",
    "        continue"
   ]
  },
  {
   "cell_type": "code",
   "execution_count": 9,
   "id": "7b7b0328",
   "metadata": {},
   "outputs": [
    {
     "name": "stdout",
     "output_type": "stream",
     "text": [
      "691989\n"
     ]
    }
   ],
   "source": [
    "print(len(vectorDict))"
   ]
  },
  {
   "cell_type": "code",
   "execution_count": 10,
   "id": "e9d7170b",
   "metadata": {},
   "outputs": [],
   "source": [
    "#print(vectorDict['america'])"
   ]
  },
  {
   "cell_type": "code",
   "execution_count": 11,
   "id": "fd86b186",
   "metadata": {},
   "outputs": [],
   "source": [
    "#print(vectorDict['America'])"
   ]
  },
  {
   "cell_type": "code",
   "execution_count": 12,
   "id": "a4782a84",
   "metadata": {},
   "outputs": [],
   "source": [
    "capital = ['A','B','C','D','E','F','G','H','I','J','K','L','M','N','O','P','Q','R','S','T','U','V','W','X','Y','Z']\n",
    "capital2 = [\"A\",\"B\",\"C\",\"D\",\"E\",\"F\",\"G\",\"H\",\"I\",\"J\",\"K\",\"L\",\"M\",\"N\",\"O\",\"P\",\"Q\",\"R\",\"S\",\"T\",\"U\",\"V\",\"W\",\"X\",\"Y\",\"Z\"]"
   ]
  },
  {
   "cell_type": "code",
   "execution_count": 13,
   "id": "bac24d5d",
   "metadata": {},
   "outputs": [
    {
     "name": "stderr",
     "output_type": "stream",
     "text": [
      "100%|██████████████████████████████████████████████████████████████████████| 691989/691989 [00:00<00:00, 945287.06it/s]\n"
     ]
    }
   ],
   "source": [
    "#2nd dictionary for containing more trimmed dataset.\n",
    "vectors2 = {}\n",
    "for key in tqdm(vectorDict.keys()):\n",
    "    #if the beginning character is capital, remove from data if a lowercase duplicate exists\n",
    "    if key[0].isupper() == True:\n",
    "        lowKey = key.lower()\n",
    "        if lowKey in vectorDict.keys():\n",
    "            continue\n",
    "    #if the rest of the characters has a capital letter, remove it from dataset ie. mySQL        \n",
    "    elif key[1:].islower() == False:\n",
    "        continue\n",
    "    value = vectorDict[key]\n",
    "    vectors2[key] = value"
   ]
  },
  {
   "cell_type": "code",
   "execution_count": 14,
   "id": "34a31581",
   "metadata": {},
   "outputs": [
    {
     "name": "stdout",
     "output_type": "stream",
     "text": [
      "576505\n"
     ]
    }
   ],
   "source": [
    "print(len(vectors2))"
   ]
  },
  {
   "cell_type": "code",
   "execution_count": 15,
   "id": "5818842d",
   "metadata": {},
   "outputs": [
    {
     "name": "stdout",
     "output_type": "stream",
     "text": [
      "258494\n"
     ]
    }
   ],
   "source": [
    "print(vectors.key_to_index['mySQL'])"
   ]
  },
  {
   "cell_type": "code",
   "execution_count": 16,
   "id": "a64ede1d",
   "metadata": {},
   "outputs": [
    {
     "data": {
      "text/plain": [
       "False"
      ]
     },
     "execution_count": 16,
     "metadata": {},
     "output_type": "execute_result"
    }
   ],
   "source": [
    "\"\" in vectors.key_to_index"
   ]
  },
  {
   "cell_type": "code",
   "execution_count": 17,
   "id": "6222ae72",
   "metadata": {},
   "outputs": [
    {
     "ename": "KeyError",
     "evalue": "'mySQL'",
     "output_type": "error",
     "traceback": [
      "\u001b[1;31m---------------------------------------------------------------------------\u001b[0m",
      "\u001b[1;31mKeyError\u001b[0m                                  Traceback (most recent call last)",
      "\u001b[1;32m<ipython-input-17-f222ae84943a>\u001b[0m in \u001b[0;36m<module>\u001b[1;34m\u001b[0m\n\u001b[1;32m----> 1\u001b[1;33m \u001b[0mprint\u001b[0m\u001b[1;33m(\u001b[0m\u001b[0mvectors2\u001b[0m\u001b[1;33m[\u001b[0m\u001b[1;34m'mySQL'\u001b[0m\u001b[1;33m]\u001b[0m\u001b[1;33m)\u001b[0m\u001b[1;33m\u001b[0m\u001b[1;33m\u001b[0m\u001b[0m\n\u001b[0m",
      "\u001b[1;31mKeyError\u001b[0m: 'mySQL'"
     ]
    }
   ],
   "source": [
    "print(vectors2['mySQL'])"
   ]
  },
  {
   "cell_type": "code",
   "execution_count": null,
   "id": "43c7f9e8",
   "metadata": {},
   "outputs": [],
   "source": []
  },
  {
   "cell_type": "code",
   "execution_count": null,
   "id": "8f781ad8",
   "metadata": {},
   "outputs": [],
   "source": []
  }
 ],
 "metadata": {
  "kernelspec": {
   "display_name": "Python 3",
   "language": "python",
   "name": "python3"
  },
  "language_info": {
   "codemirror_mode": {
    "name": "ipython",
    "version": 3
   },
   "file_extension": ".py",
   "mimetype": "text/x-python",
   "name": "python",
   "nbconvert_exporter": "python",
   "pygments_lexer": "ipython3",
   "version": "3.8.8"
  }
 },
 "nbformat": 4,
 "nbformat_minor": 5
}
